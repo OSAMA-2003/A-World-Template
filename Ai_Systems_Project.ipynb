{
  "nbformat": 4,
  "nbformat_minor": 0,
  "metadata": {
    "colab": {
      "provenance": [],
      "authorship_tag": "ABX9TyPe8Bocx7FoKXwIXUZoFWOw",
      "include_colab_link": true
    },
    "kernelspec": {
      "name": "python3",
      "display_name": "Python 3"
    },
    "language_info": {
      "name": "python"
    }
  },
  "cells": [
    {
      "cell_type": "markdown",
      "metadata": {
        "id": "view-in-github",
        "colab_type": "text"
      },
      "source": [
        "<a href=\"https://colab.research.google.com/github/OSAMA-2003/A-World-Template/blob/main/Ai_Systems_Project.ipynb\" target=\"_parent\"><img src=\"https://colab.research.google.com/assets/colab-badge.svg\" alt=\"Open In Colab\"/></a>"
      ]
    },
    {
      "cell_type": "code",
      "source": [
        "# !pip install sklearn-genetic\n",
        "import pandas as pd\n",
        "import numpy as np\n",
        "from sklearn.model_selection import train_test_split\n",
        "from sklearn.tree import DecisionTreeClassifier\n",
        "from sklearn.metrics import accuracy_score\n",
        "from sklearn.feature_selection import SelectFromModel\n",
        "from sklearn.model_selection import GridSearchCV\n",
        "import tensorflow as tf\n",
        "from sklearn.decomposition import PCA\n",
        "from sklearn.neural_network import MLPClassifier\n",
        "from sklearn.ensemble import RandomForestClassifier\n",
        "from scipy.optimize import differential_evolution\n",
        "from sklearn.preprocessing import StandardScaler\n",
        "from sklearn.pipeline import make_pipeline\n",
        "from sklearn.utils import check_random_state\n",
        "# from genetic_selection import GeneticSelectionCV"
      ],
      "metadata": {
        "id": "3-Ikh4l6mUBC"
      },
      "execution_count": 2,
      "outputs": []
    },
    {
      "cell_type": "code",
      "source": [
        "# Step 1: Data Preparation\n",
        "# Load the dataset\n",
        "data = pd.read_csv('/content/Heart_Dataset.csv')\n",
        "\n",
        "X = data.iloc[:,2:]\n",
        "Y= data.iloc[:,1:2]\n",
        "X.replace(np.nan,inplace=True)\n",
        "# x_train,x_test,y_train,y_test=train_test_split(x,y,train_size=0.30, random_state=0)\n",
        "x_train, x_test, y_train, y_test = train_test_split(X, Y, train_size = 0.05, random_state = 50)"
      ],
      "metadata": {
        "id": "pZ-YGS2nmVZJ"
      },
      "execution_count": 3,
      "outputs": []
    },
    {
      "cell_type": "code",
      "source": [
        "\n",
        "# 1-Decision Tree Classifier\n",
        "dt_classifier = DecisionTreeClassifier()\n",
        "dt_classifier.fit(x_train, y_train)\n",
        "\n",
        "# Predict\n",
        "y_pred_dt = dt_classifier.predict(x_test)\n",
        "\n",
        "# Accuracy\n",
        "accuracy_dt = accuracy_score(y_test, y_pred_dt)\n",
        "print(f'Decision Tree Accuracy: {round((accuracy_dt*100), 2)}%')"
      ],
      "metadata": {
        "colab": {
          "base_uri": "https://localhost:8080/"
        },
        "id": "rTSbkC9_2XIu",
        "outputId": "52a80789-346d-4e8a-ac78-e7dbb4a129af"
      },
      "execution_count": null,
      "outputs": [
        {
          "output_type": "stream",
          "name": "stdout",
          "text": [
            "Decision Tree Accuracy: 84.7%\n"
          ]
        }
      ]
    },
    {
      "cell_type": "code",
      "source": [
        "\n",
        "# 2- Neural Networks MLP\n",
        "\n",
        "from sklearn.neural_network import MLPClassifier\n",
        "\n",
        "# Multi-layer Perceptron (MLP) Classifier\n",
        "mlp_classifier = MLPClassifier(hidden_layer_sizes=(100,), activation='relu', solver='adam', random_state=42)\n",
        "mlp_classifier.fit(x_train, y_train)\n",
        "\n",
        "# Predict\n",
        "y_pred_mlp = mlp_classifier.predict(x_test)\n",
        "\n",
        "# Accuracy\n",
        "accuracy_mlp = accuracy_score(y_test, y_pred_mlp)\n",
        "# print(\"MLP Accuracy:\", accuracy_mlp)\n",
        "print(f'MLP Accuracy: {round((accuracy_mlp*100), 2)}%')"
      ],
      "metadata": {
        "colab": {
          "base_uri": "https://localhost:8080/"
        },
        "id": "md0h2YuovMN-",
        "outputId": "a85a95c3-94d7-4414-b36d-216eb131d0ac"
      },
      "execution_count": null,
      "outputs": [
        {
          "output_type": "stream",
          "name": "stdout",
          "text": [
            "MLP Accuracy: 90.05%\n"
          ]
        },
        {
          "output_type": "stream",
          "name": "stderr",
          "text": [
            "/usr/local/lib/python3.10/dist-packages/sklearn/neural_network/_multilayer_perceptron.py:1098: DataConversionWarning: A column-vector y was passed when a 1d array was expected. Please change the shape of y to (n_samples, ), for example using ravel().\n",
            "  y = column_or_1d(y, warn=True)\n"
          ]
        }
      ]
    },
    {
      "cell_type": "code",
      "source": [
        "\n",
        "\n",
        "# !pip install sklearn-genetic\n",
        "\n",
        "# 3. Genetic Algorithms for Feature Selection\n",
        "# Scale the features\n",
        "scaler = StandardScaler()\n",
        "X_train_scaled = scaler.fit_transform(x_train)\n",
        "X_test_scaled = scaler.transform(x_test)\n",
        "\n",
        "# Define the classifier\n",
        "classifier = RandomForestClassifier(n_estimators=10, random_state=500)\n",
        "\n",
        "# Define the genetic selection\n",
        "selector = GeneticSelectionCV(classifier,cv=5,verbose=1,scoring=\"accuracy\",crossover_proba=0.5, mutation_proba=0.2,n_generations=40, crossover_independent_proba=0.5,\n",
        "                              mutation_independent_proba=0.05, tournament_size=3, n_gen_no_change=10,caching=True, n_jobs=-1)\n",
        "\n",
        "# Perform genetic feature selection\n",
        "selector.fit(X_train_scaled, y_train)\n",
        "\n",
        "# Transform the training and testing sets to selected features\n",
        "X_train_selected = selector.transform(X_train_scaled)\n",
        "X_test_selected = selector.transform(X_test_scaled)\n",
        "\n",
        "# Train the classifier on the selected features\n",
        "classifier.fit(X_train_selected, y_train)\n",
        "\n",
        "# Predict the labels of the test set\n",
        "y_pred = classifier.predict(X_test_selected)\n",
        "\n",
        "# Calculate the accuracy of the classifier\n",
        "accuracy = accuracy_score(y_test, y_pred)\n",
        "\n",
        "# Print the accuracy\n",
        "print(f'Genetic Algorithms Accuracy: {round((accuracy*100), 2)}%')\n",
        "\n"
      ],
      "metadata": {
        "colab": {
          "base_uri": "https://localhost:8080/"
        },
        "id": "8o3IDADdvWPo",
        "outputId": "e0998063-63a2-4b20-d2fc-bd11ab7a8628"
      },
      "execution_count": null,
      "outputs": [
        {
          "output_type": "stream",
          "name": "stderr",
          "text": [
            "/usr/local/lib/python3.10/dist-packages/sklearn/utils/validation.py:1143: DataConversionWarning: A column-vector y was passed when a 1d array was expected. Please change the shape of y to (n_samples, ), for example using ravel().\n",
            "  y = column_or_1d(y, warn=True)\n",
            "/usr/local/lib/python3.10/dist-packages/multiprocess/popen_fork.py:66: RuntimeWarning: os.fork() was called. os.fork() is incompatible with multithreaded code, and JAX is multithreaded, so this will likely lead to a deadlock.\n",
            "  self.pid = os.fork()\n"
          ]
        },
        {
          "output_type": "stream",
          "name": "stdout",
          "text": [
            "Selecting features with genetic algorithm.\n",
            "gen\tnevals\tavg                               \tstd                            \tmin                            \tmax                               \n",
            "0  \t50    \t[  0.902465  11.74       0.010554]\t[ 0.010672  6.520153  0.006803]\t[ 0.87154   1.        0.000349]\t[  0.913046  23.         0.032334]\n",
            "1  \t37    \t[  0.904513  11.88       0.009326]\t[ 0.007539  5.74679   0.005549]\t[ 0.883401  1.        0.000349]\t[  0.913046  23.         0.03047 ]\n",
            "2  \t33    \t[  0.906407  10.46       0.007993]\t[ 0.009568  6.654953  0.004872]\t[ 0.865599  1.        0.003572]\t[  0.913046  23.         0.024772]\n",
            "3  \t35    \t[ 0.906415  8.32      0.008775]   \t[ 0.009882  6.064454  0.005975]\t[ 0.871637  1.        0.000349]\t[  0.915026  21.         0.026663]\n",
            "4  \t25    \t[ 0.9091    6.08      0.007723]   \t[ 0.007986  5.40311   0.005521]\t[ 0.87946   1.        0.003888]\t[  0.915026  21.         0.030684]\n",
            "5  \t27    \t[ 0.909375  4.7       0.006857]   \t[ 0.008714  3.858756  0.004929]\t[ 0.879499  1.        0.003888]\t[  0.915026  18.         0.024395]\n",
            "6  \t23    \t[ 0.912259  3.9       0.005904]   \t[ 0.007102  3.383785  0.004654]\t[ 0.8755    1.        0.003888]\t[  0.915026  12.         0.034443]\n",
            "7  \t23    \t[ 0.913326  4.1       0.005531]   \t[ 0.006695  2.443358  0.002796]\t[ 0.871559  1.        0.003888]\t[  0.917006  12.         0.020646]\n",
            "8  \t30    \t[ 0.915107  3.66      0.004812]   \t[ 0.001042  1.22654   0.000514]\t[ 0.911085  2.        0.003888]\t[ 0.917006  9.        0.007102]   \n",
            "9  \t34    \t[ 0.914791  3.3       0.00506 ]   \t[ 0.002894  0.964365  0.001968]\t[ 0.901223  2.        0.003888]\t[ 0.917006  6.        0.01602 ]   \n",
            "10 \t26    \t[ 0.915032  2.82      0.005621]   \t[ 0.006657  0.973447  0.004348]\t[ 0.871675  2.        0.004645]\t[ 0.917006  5.        0.034664]   \n",
            "11 \t29    \t[ 0.916255  2.38      0.004944]   \t[ 0.002126  0.845931  0.001505]\t[ 0.905145  2.        0.003888]\t[ 0.917006  6.        0.013379]   \n",
            "12 \t26    \t[ 0.916729  2.18      0.004637]   \t[ 0.000793  0.433128  0.000109]\t[ 0.913046  2.        0.003888]\t[ 0.917006  4.        0.004719]   \n",
            "13 \t35    \t[ 0.915545  2.32      0.005409]   \t[ 0.004991  0.76      0.002639]\t[ 0.889381  2.        0.004645]\t[ 0.917006  5.        0.019825]   \n",
            "14 \t31    \t[ 0.914952  2.28      0.005844]   \t[ 0.005964  0.601332  0.003164]\t[ 0.887381  2.        0.004645]\t[ 0.917006  4.        0.020197]   \n",
            "15 \t30    \t[ 0.916215  2.22      0.004829]   \t[ 0.002798  0.641561  0.000986]\t[ 0.899204  2.        0.003888]\t[ 0.917006  5.        0.010852]   \n",
            "16 \t31    \t[ 0.916374  2.14      0.004808]   \t[ 0.002693  0.490306  0.000804]\t[ 0.899223  2.        0.003888]\t[ 0.917006  4.        0.009535]   \n",
            "17 \t32    \t[ 0.916413  2.2       0.004753]   \t[ 0.001492  0.489898  0.000867]\t[ 0.911066  2.        0.003888]\t[ 0.917006  4.        0.010458]   \n"
          ]
        },
        {
          "output_type": "stream",
          "name": "stderr",
          "text": [
            "/usr/local/lib/python3.10/dist-packages/multiprocess/popen_fork.py:66: RuntimeWarning: os.fork() was called. os.fork() is incompatible with multithreaded code, and JAX is multithreaded, so this will likely lead to a deadlock.\n",
            "  self.pid = os.fork()\n"
          ]
        },
        {
          "output_type": "stream",
          "name": "stdout",
          "text": [
            "18 \t23    \t[ 0.915307  2.28      0.005626]   \t[ 0.005714  0.895321  0.003281]\t[ 0.885381  2.        0.004645]\t[ 0.917006  7.        0.020347]   \n",
            "Genetic Algorithms Accuracy: 90.02%\n"
          ]
        },
        {
          "output_type": "stream",
          "name": "stderr",
          "text": [
            "<ipython-input-43-d4979126827c>:34: DataConversionWarning: A column-vector y was passed when a 1d array was expected. Please change the shape of y to (n_samples,), for example using ravel().\n",
            "  classifier.fit(X_train_selected, y_train)\n"
          ]
        }
      ]
    },
    {
      "cell_type": "code",
      "source": [
        "# 4-Differential Evolution Algorithm for Hyperparameter Optimization (Neural Network)\n",
        "# Define the fitness function\n",
        "def fitness_function(params, x_train, y_train, x_test, y_test):\n",
        "    n_estimators = int(params[0])\n",
        "    max_depth = int(params[1])\n",
        "    min_samples_split = int(params[2])\n",
        "    min_samples_leaf = int(params[3])\n",
        "    # Create and train the random forest classifier\n",
        "    classifier = RandomForestClassifier(n_estimators=n_estimators,max_depth=max_depth,min_samples_split=min_samples_split,min_samples_leaf=min_samples_leaf,random_state=42)\n",
        "    classifier.fit(x_train, y_train)\n",
        "    # Predict the labels of the test set\n",
        "    y_pred = classifier.predict(x_test)\n",
        "    # Calculate and return the accuracy of the classifier\n",
        "    accuracy = accuracy_score(y_test, y_pred)\n",
        "    return -accuracy  # Minimize negative accuracy for optimization\n",
        "# Define the bounds for the hyperparameters\n",
        "bounds = [(10, 200),  # Number of estimators\n",
        "          (1, 20),  # Maximum depth\n",
        "          (2, 20),  # Minimum samples split\n",
        "          (1, 20)]  # Minimum samples leaf\n",
        "\n",
        "# Perform differential evolution for hyperparameter optimization\n",
        "result = differential_evolution( fitness_function, bounds=bounds,args=(x_train, y_train, x_test, y_test),strategy='best1bin', popsize=10,  # Population size\n",
        "                                mutation=(0.5, 1),  recombination=0.7, maxiter=20, tol=0.01, seed=42)\n",
        "# Get the best hyperparameters\n",
        "n_estimators, max_depth, min_samples_split, min_samples_leaf = result.x\n",
        "\n",
        "# Create and train the random forest classifier with the best hyperparameters\n",
        "classifier = RandomForestClassifier(n_estimators=int(n_estimators),max_depth=int(max_depth),min_samples_split=int(min_samples_split), min_samples_leaf=int(min_samples_leaf),\n",
        " random_state=42)\n",
        "classifier.fit(x_train, y_train)\n",
        "y_pred = classifier.predict(x_test)\n",
        "accuracy = accuracy_score(y_test, y_pred)\n",
        "\n",
        "print(f'Differential Evolution Algorithm Accuracy: {round((accuracy*100), 2)}%')"
      ],
      "metadata": {
        "colab": {
          "base_uri": "https://localhost:8080/"
        },
        "id": "XrA9bsWtwcOg",
        "outputId": "17a82925-34c9-4b89-e23c-7d7ee6df7e2e"
      },
      "execution_count": null,
      "outputs": [
        {
          "output_type": "stream",
          "name": "stderr",
          "text": [
            "<ipython-input-44-edfcec98d8ba>:17: DataConversionWarning: A column-vector y was passed when a 1d array was expected. Please change the shape of y to (n_samples,), for example using ravel().\n",
            "  classifier.fit(x_train, y_train)\n",
            "<ipython-input-44-edfcec98d8ba>:17: DataConversionWarning: A column-vector y was passed when a 1d array was expected. Please change the shape of y to (n_samples,), for example using ravel().\n",
            "  classifier.fit(x_train, y_train)\n",
            "<ipython-input-44-edfcec98d8ba>:17: DataConversionWarning: A column-vector y was passed when a 1d array was expected. Please change the shape of y to (n_samples,), for example using ravel().\n",
            "  classifier.fit(x_train, y_train)\n",
            "<ipython-input-44-edfcec98d8ba>:17: DataConversionWarning: A column-vector y was passed when a 1d array was expected. Please change the shape of y to (n_samples,), for example using ravel().\n",
            "  classifier.fit(x_train, y_train)\n",
            "<ipython-input-44-edfcec98d8ba>:17: DataConversionWarning: A column-vector y was passed when a 1d array was expected. Please change the shape of y to (n_samples,), for example using ravel().\n",
            "  classifier.fit(x_train, y_train)\n",
            "<ipython-input-44-edfcec98d8ba>:17: DataConversionWarning: A column-vector y was passed when a 1d array was expected. Please change the shape of y to (n_samples,), for example using ravel().\n",
            "  classifier.fit(x_train, y_train)\n",
            "<ipython-input-44-edfcec98d8ba>:17: DataConversionWarning: A column-vector y was passed when a 1d array was expected. Please change the shape of y to (n_samples,), for example using ravel().\n",
            "  classifier.fit(x_train, y_train)\n",
            "<ipython-input-44-edfcec98d8ba>:17: DataConversionWarning: A column-vector y was passed when a 1d array was expected. Please change the shape of y to (n_samples,), for example using ravel().\n",
            "  classifier.fit(x_train, y_train)\n",
            "<ipython-input-44-edfcec98d8ba>:17: DataConversionWarning: A column-vector y was passed when a 1d array was expected. Please change the shape of y to (n_samples,), for example using ravel().\n",
            "  classifier.fit(x_train, y_train)\n",
            "<ipython-input-44-edfcec98d8ba>:17: DataConversionWarning: A column-vector y was passed when a 1d array was expected. Please change the shape of y to (n_samples,), for example using ravel().\n",
            "  classifier.fit(x_train, y_train)\n",
            "<ipython-input-44-edfcec98d8ba>:17: DataConversionWarning: A column-vector y was passed when a 1d array was expected. Please change the shape of y to (n_samples,), for example using ravel().\n",
            "  classifier.fit(x_train, y_train)\n",
            "<ipython-input-44-edfcec98d8ba>:17: DataConversionWarning: A column-vector y was passed when a 1d array was expected. Please change the shape of y to (n_samples,), for example using ravel().\n",
            "  classifier.fit(x_train, y_train)\n",
            "<ipython-input-44-edfcec98d8ba>:17: DataConversionWarning: A column-vector y was passed when a 1d array was expected. Please change the shape of y to (n_samples,), for example using ravel().\n",
            "  classifier.fit(x_train, y_train)\n",
            "<ipython-input-44-edfcec98d8ba>:17: DataConversionWarning: A column-vector y was passed when a 1d array was expected. Please change the shape of y to (n_samples,), for example using ravel().\n",
            "  classifier.fit(x_train, y_train)\n",
            "<ipython-input-44-edfcec98d8ba>:17: DataConversionWarning: A column-vector y was passed when a 1d array was expected. Please change the shape of y to (n_samples,), for example using ravel().\n",
            "  classifier.fit(x_train, y_train)\n",
            "<ipython-input-44-edfcec98d8ba>:17: DataConversionWarning: A column-vector y was passed when a 1d array was expected. Please change the shape of y to (n_samples,), for example using ravel().\n",
            "  classifier.fit(x_train, y_train)\n",
            "<ipython-input-44-edfcec98d8ba>:17: DataConversionWarning: A column-vector y was passed when a 1d array was expected. Please change the shape of y to (n_samples,), for example using ravel().\n",
            "  classifier.fit(x_train, y_train)\n",
            "<ipython-input-44-edfcec98d8ba>:17: DataConversionWarning: A column-vector y was passed when a 1d array was expected. Please change the shape of y to (n_samples,), for example using ravel().\n",
            "  classifier.fit(x_train, y_train)\n",
            "<ipython-input-44-edfcec98d8ba>:17: DataConversionWarning: A column-vector y was passed when a 1d array was expected. Please change the shape of y to (n_samples,), for example using ravel().\n",
            "  classifier.fit(x_train, y_train)\n",
            "<ipython-input-44-edfcec98d8ba>:17: DataConversionWarning: A column-vector y was passed when a 1d array was expected. Please change the shape of y to (n_samples,), for example using ravel().\n",
            "  classifier.fit(x_train, y_train)\n",
            "<ipython-input-44-edfcec98d8ba>:17: DataConversionWarning: A column-vector y was passed when a 1d array was expected. Please change the shape of y to (n_samples,), for example using ravel().\n",
            "  classifier.fit(x_train, y_train)\n",
            "<ipython-input-44-edfcec98d8ba>:17: DataConversionWarning: A column-vector y was passed when a 1d array was expected. Please change the shape of y to (n_samples,), for example using ravel().\n",
            "  classifier.fit(x_train, y_train)\n",
            "<ipython-input-44-edfcec98d8ba>:17: DataConversionWarning: A column-vector y was passed when a 1d array was expected. Please change the shape of y to (n_samples,), for example using ravel().\n",
            "  classifier.fit(x_train, y_train)\n",
            "<ipython-input-44-edfcec98d8ba>:17: DataConversionWarning: A column-vector y was passed when a 1d array was expected. Please change the shape of y to (n_samples,), for example using ravel().\n",
            "  classifier.fit(x_train, y_train)\n",
            "<ipython-input-44-edfcec98d8ba>:17: DataConversionWarning: A column-vector y was passed when a 1d array was expected. Please change the shape of y to (n_samples,), for example using ravel().\n",
            "  classifier.fit(x_train, y_train)\n",
            "<ipython-input-44-edfcec98d8ba>:17: DataConversionWarning: A column-vector y was passed when a 1d array was expected. Please change the shape of y to (n_samples,), for example using ravel().\n",
            "  classifier.fit(x_train, y_train)\n",
            "<ipython-input-44-edfcec98d8ba>:17: DataConversionWarning: A column-vector y was passed when a 1d array was expected. Please change the shape of y to (n_samples,), for example using ravel().\n",
            "  classifier.fit(x_train, y_train)\n",
            "<ipython-input-44-edfcec98d8ba>:17: DataConversionWarning: A column-vector y was passed when a 1d array was expected. Please change the shape of y to (n_samples,), for example using ravel().\n",
            "  classifier.fit(x_train, y_train)\n",
            "<ipython-input-44-edfcec98d8ba>:17: DataConversionWarning: A column-vector y was passed when a 1d array was expected. Please change the shape of y to (n_samples,), for example using ravel().\n",
            "  classifier.fit(x_train, y_train)\n",
            "<ipython-input-44-edfcec98d8ba>:17: DataConversionWarning: A column-vector y was passed when a 1d array was expected. Please change the shape of y to (n_samples,), for example using ravel().\n",
            "  classifier.fit(x_train, y_train)\n",
            "<ipython-input-44-edfcec98d8ba>:17: DataConversionWarning: A column-vector y was passed when a 1d array was expected. Please change the shape of y to (n_samples,), for example using ravel().\n",
            "  classifier.fit(x_train, y_train)\n",
            "<ipython-input-44-edfcec98d8ba>:17: DataConversionWarning: A column-vector y was passed when a 1d array was expected. Please change the shape of y to (n_samples,), for example using ravel().\n",
            "  classifier.fit(x_train, y_train)\n",
            "<ipython-input-44-edfcec98d8ba>:17: DataConversionWarning: A column-vector y was passed when a 1d array was expected. Please change the shape of y to (n_samples,), for example using ravel().\n",
            "  classifier.fit(x_train, y_train)\n",
            "<ipython-input-44-edfcec98d8ba>:17: DataConversionWarning: A column-vector y was passed when a 1d array was expected. Please change the shape of y to (n_samples,), for example using ravel().\n",
            "  classifier.fit(x_train, y_train)\n",
            "<ipython-input-44-edfcec98d8ba>:17: DataConversionWarning: A column-vector y was passed when a 1d array was expected. Please change the shape of y to (n_samples,), for example using ravel().\n",
            "  classifier.fit(x_train, y_train)\n",
            "<ipython-input-44-edfcec98d8ba>:17: DataConversionWarning: A column-vector y was passed when a 1d array was expected. Please change the shape of y to (n_samples,), for example using ravel().\n",
            "  classifier.fit(x_train, y_train)\n",
            "<ipython-input-44-edfcec98d8ba>:17: DataConversionWarning: A column-vector y was passed when a 1d array was expected. Please change the shape of y to (n_samples,), for example using ravel().\n",
            "  classifier.fit(x_train, y_train)\n",
            "<ipython-input-44-edfcec98d8ba>:17: DataConversionWarning: A column-vector y was passed when a 1d array was expected. Please change the shape of y to (n_samples,), for example using ravel().\n",
            "  classifier.fit(x_train, y_train)\n",
            "<ipython-input-44-edfcec98d8ba>:17: DataConversionWarning: A column-vector y was passed when a 1d array was expected. Please change the shape of y to (n_samples,), for example using ravel().\n",
            "  classifier.fit(x_train, y_train)\n",
            "<ipython-input-44-edfcec98d8ba>:17: DataConversionWarning: A column-vector y was passed when a 1d array was expected. Please change the shape of y to (n_samples,), for example using ravel().\n",
            "  classifier.fit(x_train, y_train)\n",
            "<ipython-input-44-edfcec98d8ba>:17: DataConversionWarning: A column-vector y was passed when a 1d array was expected. Please change the shape of y to (n_samples,), for example using ravel().\n",
            "  classifier.fit(x_train, y_train)\n",
            "<ipython-input-44-edfcec98d8ba>:17: DataConversionWarning: A column-vector y was passed when a 1d array was expected. Please change the shape of y to (n_samples,), for example using ravel().\n",
            "  classifier.fit(x_train, y_train)\n",
            "<ipython-input-44-edfcec98d8ba>:17: DataConversionWarning: A column-vector y was passed when a 1d array was expected. Please change the shape of y to (n_samples,), for example using ravel().\n",
            "  classifier.fit(x_train, y_train)\n",
            "<ipython-input-44-edfcec98d8ba>:17: DataConversionWarning: A column-vector y was passed when a 1d array was expected. Please change the shape of y to (n_samples,), for example using ravel().\n",
            "  classifier.fit(x_train, y_train)\n",
            "<ipython-input-44-edfcec98d8ba>:17: DataConversionWarning: A column-vector y was passed when a 1d array was expected. Please change the shape of y to (n_samples,), for example using ravel().\n",
            "  classifier.fit(x_train, y_train)\n",
            "<ipython-input-44-edfcec98d8ba>:17: DataConversionWarning: A column-vector y was passed when a 1d array was expected. Please change the shape of y to (n_samples,), for example using ravel().\n",
            "  classifier.fit(x_train, y_train)\n",
            "<ipython-input-44-edfcec98d8ba>:17: DataConversionWarning: A column-vector y was passed when a 1d array was expected. Please change the shape of y to (n_samples,), for example using ravel().\n",
            "  classifier.fit(x_train, y_train)\n",
            "<ipython-input-44-edfcec98d8ba>:17: DataConversionWarning: A column-vector y was passed when a 1d array was expected. Please change the shape of y to (n_samples,), for example using ravel().\n",
            "  classifier.fit(x_train, y_train)\n",
            "<ipython-input-44-edfcec98d8ba>:17: DataConversionWarning: A column-vector y was passed when a 1d array was expected. Please change the shape of y to (n_samples,), for example using ravel().\n",
            "  classifier.fit(x_train, y_train)\n",
            "<ipython-input-44-edfcec98d8ba>:17: DataConversionWarning: A column-vector y was passed when a 1d array was expected. Please change the shape of y to (n_samples,), for example using ravel().\n",
            "  classifier.fit(x_train, y_train)\n",
            "<ipython-input-44-edfcec98d8ba>:17: DataConversionWarning: A column-vector y was passed when a 1d array was expected. Please change the shape of y to (n_samples,), for example using ravel().\n",
            "  classifier.fit(x_train, y_train)\n",
            "<ipython-input-44-edfcec98d8ba>:17: DataConversionWarning: A column-vector y was passed when a 1d array was expected. Please change the shape of y to (n_samples,), for example using ravel().\n",
            "  classifier.fit(x_train, y_train)\n",
            "<ipython-input-44-edfcec98d8ba>:17: DataConversionWarning: A column-vector y was passed when a 1d array was expected. Please change the shape of y to (n_samples,), for example using ravel().\n",
            "  classifier.fit(x_train, y_train)\n",
            "<ipython-input-44-edfcec98d8ba>:17: DataConversionWarning: A column-vector y was passed when a 1d array was expected. Please change the shape of y to (n_samples,), for example using ravel().\n",
            "  classifier.fit(x_train, y_train)\n",
            "<ipython-input-44-edfcec98d8ba>:17: DataConversionWarning: A column-vector y was passed when a 1d array was expected. Please change the shape of y to (n_samples,), for example using ravel().\n",
            "  classifier.fit(x_train, y_train)\n",
            "<ipython-input-44-edfcec98d8ba>:17: DataConversionWarning: A column-vector y was passed when a 1d array was expected. Please change the shape of y to (n_samples,), for example using ravel().\n",
            "  classifier.fit(x_train, y_train)\n",
            "<ipython-input-44-edfcec98d8ba>:17: DataConversionWarning: A column-vector y was passed when a 1d array was expected. Please change the shape of y to (n_samples,), for example using ravel().\n",
            "  classifier.fit(x_train, y_train)\n",
            "<ipython-input-44-edfcec98d8ba>:17: DataConversionWarning: A column-vector y was passed when a 1d array was expected. Please change the shape of y to (n_samples,), for example using ravel().\n",
            "  classifier.fit(x_train, y_train)\n",
            "<ipython-input-44-edfcec98d8ba>:17: DataConversionWarning: A column-vector y was passed when a 1d array was expected. Please change the shape of y to (n_samples,), for example using ravel().\n",
            "  classifier.fit(x_train, y_train)\n",
            "<ipython-input-44-edfcec98d8ba>:17: DataConversionWarning: A column-vector y was passed when a 1d array was expected. Please change the shape of y to (n_samples,), for example using ravel().\n",
            "  classifier.fit(x_train, y_train)\n",
            "<ipython-input-44-edfcec98d8ba>:17: DataConversionWarning: A column-vector y was passed when a 1d array was expected. Please change the shape of y to (n_samples,), for example using ravel().\n",
            "  classifier.fit(x_train, y_train)\n",
            "<ipython-input-44-edfcec98d8ba>:17: DataConversionWarning: A column-vector y was passed when a 1d array was expected. Please change the shape of y to (n_samples,), for example using ravel().\n",
            "  classifier.fit(x_train, y_train)\n",
            "<ipython-input-44-edfcec98d8ba>:17: DataConversionWarning: A column-vector y was passed when a 1d array was expected. Please change the shape of y to (n_samples,), for example using ravel().\n",
            "  classifier.fit(x_train, y_train)\n",
            "<ipython-input-44-edfcec98d8ba>:17: DataConversionWarning: A column-vector y was passed when a 1d array was expected. Please change the shape of y to (n_samples,), for example using ravel().\n",
            "  classifier.fit(x_train, y_train)\n",
            "<ipython-input-44-edfcec98d8ba>:17: DataConversionWarning: A column-vector y was passed when a 1d array was expected. Please change the shape of y to (n_samples,), for example using ravel().\n",
            "  classifier.fit(x_train, y_train)\n",
            "<ipython-input-44-edfcec98d8ba>:17: DataConversionWarning: A column-vector y was passed when a 1d array was expected. Please change the shape of y to (n_samples,), for example using ravel().\n",
            "  classifier.fit(x_train, y_train)\n",
            "<ipython-input-44-edfcec98d8ba>:17: DataConversionWarning: A column-vector y was passed when a 1d array was expected. Please change the shape of y to (n_samples,), for example using ravel().\n",
            "  classifier.fit(x_train, y_train)\n",
            "<ipython-input-44-edfcec98d8ba>:17: DataConversionWarning: A column-vector y was passed when a 1d array was expected. Please change the shape of y to (n_samples,), for example using ravel().\n",
            "  classifier.fit(x_train, y_train)\n",
            "<ipython-input-44-edfcec98d8ba>:17: DataConversionWarning: A column-vector y was passed when a 1d array was expected. Please change the shape of y to (n_samples,), for example using ravel().\n",
            "  classifier.fit(x_train, y_train)\n",
            "<ipython-input-44-edfcec98d8ba>:17: DataConversionWarning: A column-vector y was passed when a 1d array was expected. Please change the shape of y to (n_samples,), for example using ravel().\n",
            "  classifier.fit(x_train, y_train)\n",
            "<ipython-input-44-edfcec98d8ba>:17: DataConversionWarning: A column-vector y was passed when a 1d array was expected. Please change the shape of y to (n_samples,), for example using ravel().\n",
            "  classifier.fit(x_train, y_train)\n",
            "<ipython-input-44-edfcec98d8ba>:17: DataConversionWarning: A column-vector y was passed when a 1d array was expected. Please change the shape of y to (n_samples,), for example using ravel().\n",
            "  classifier.fit(x_train, y_train)\n",
            "<ipython-input-44-edfcec98d8ba>:17: DataConversionWarning: A column-vector y was passed when a 1d array was expected. Please change the shape of y to (n_samples,), for example using ravel().\n",
            "  classifier.fit(x_train, y_train)\n",
            "<ipython-input-44-edfcec98d8ba>:17: DataConversionWarning: A column-vector y was passed when a 1d array was expected. Please change the shape of y to (n_samples,), for example using ravel().\n",
            "  classifier.fit(x_train, y_train)\n",
            "<ipython-input-44-edfcec98d8ba>:17: DataConversionWarning: A column-vector y was passed when a 1d array was expected. Please change the shape of y to (n_samples,), for example using ravel().\n",
            "  classifier.fit(x_train, y_train)\n",
            "<ipython-input-44-edfcec98d8ba>:17: DataConversionWarning: A column-vector y was passed when a 1d array was expected. Please change the shape of y to (n_samples,), for example using ravel().\n",
            "  classifier.fit(x_train, y_train)\n",
            "<ipython-input-44-edfcec98d8ba>:17: DataConversionWarning: A column-vector y was passed when a 1d array was expected. Please change the shape of y to (n_samples,), for example using ravel().\n",
            "  classifier.fit(x_train, y_train)\n",
            "<ipython-input-44-edfcec98d8ba>:17: DataConversionWarning: A column-vector y was passed when a 1d array was expected. Please change the shape of y to (n_samples,), for example using ravel().\n",
            "  classifier.fit(x_train, y_train)\n",
            "<ipython-input-44-edfcec98d8ba>:17: DataConversionWarning: A column-vector y was passed when a 1d array was expected. Please change the shape of y to (n_samples,), for example using ravel().\n",
            "  classifier.fit(x_train, y_train)\n",
            "<ipython-input-44-edfcec98d8ba>:17: DataConversionWarning: A column-vector y was passed when a 1d array was expected. Please change the shape of y to (n_samples,), for example using ravel().\n",
            "  classifier.fit(x_train, y_train)\n",
            "<ipython-input-44-edfcec98d8ba>:17: DataConversionWarning: A column-vector y was passed when a 1d array was expected. Please change the shape of y to (n_samples,), for example using ravel().\n",
            "  classifier.fit(x_train, y_train)\n",
            "<ipython-input-44-edfcec98d8ba>:17: DataConversionWarning: A column-vector y was passed when a 1d array was expected. Please change the shape of y to (n_samples,), for example using ravel().\n",
            "  classifier.fit(x_train, y_train)\n",
            "<ipython-input-44-edfcec98d8ba>:17: DataConversionWarning: A column-vector y was passed when a 1d array was expected. Please change the shape of y to (n_samples,), for example using ravel().\n",
            "  classifier.fit(x_train, y_train)\n",
            "<ipython-input-44-edfcec98d8ba>:17: DataConversionWarning: A column-vector y was passed when a 1d array was expected. Please change the shape of y to (n_samples,), for example using ravel().\n",
            "  classifier.fit(x_train, y_train)\n",
            "<ipython-input-44-edfcec98d8ba>:17: DataConversionWarning: A column-vector y was passed when a 1d array was expected. Please change the shape of y to (n_samples,), for example using ravel().\n",
            "  classifier.fit(x_train, y_train)\n"
          ]
        },
        {
          "output_type": "stream",
          "name": "stdout",
          "text": [
            "Differential Evolution Algorithm Accuracy: 90.16%\n"
          ]
        },
        {
          "output_type": "stream",
          "name": "stderr",
          "text": [
            "<ipython-input-44-edfcec98d8ba>:57: DataConversionWarning: A column-vector y was passed when a 1d array was expected. Please change the shape of y to (n_samples,), for example using ravel().\n",
            "  classifier.fit(x_train, y_train)\n"
          ]
        }
      ]
    },
    {
      "cell_type": "code",
      "source": [
        "# 5-Principal Component Analysis (PCA)\n",
        "from sklearn.decomposition import PCA\n",
        "\n",
        "# PCA\n",
        "pca = PCA(n_components=0.95, random_state=42)\n",
        "x_train_pca = pca.fit_transform(x_train)\n",
        "x_test_pca = pca.transform(x_test)\n",
        "\n",
        "# MLP Classifier with PCA\n",
        "mlp_classifier_pca = MLPClassifier(max_iter=1000, activation='relu', solver='adam', random_state=42)\n",
        "mlp_classifier_pca.fit(x_train_pca, y_train)\n",
        "\n",
        "# Predict\n",
        "y_pred_mlp_pca = mlp_classifier_pca.predict(x_test_pca)\n",
        "\n",
        "# Accuracy\n",
        "accuracy_mlp_pca = accuracy_score(y_test, y_pred_mlp_pca)\n",
        "print(f'MLP with PCA Accuracy: {round((accuracy_mlp_pca*100), 2)}%')\n"
      ],
      "metadata": {
        "colab": {
          "base_uri": "https://localhost:8080/"
        },
        "id": "r6kXy6oZx38-",
        "outputId": "9cc80f52-7d95-447f-b429-148596f32582"
      },
      "execution_count": 4,
      "outputs": [
        {
          "output_type": "stream",
          "name": "stderr",
          "text": [
            "/usr/local/lib/python3.10/dist-packages/sklearn/neural_network/_multilayer_perceptron.py:1098: DataConversionWarning: A column-vector y was passed when a 1d array was expected. Please change the shape of y to (n_samples, ), for example using ravel().\n",
            "  y = column_or_1d(y, warn=True)\n"
          ]
        },
        {
          "output_type": "stream",
          "name": "stdout",
          "text": [
            "MLP with PCA Accuracy: 89.57%\n"
          ]
        }
      ]
    },
    {
      "cell_type": "code",
      "source": [],
      "metadata": {
        "id": "Klcogee1mVfW"
      },
      "execution_count": null,
      "outputs": []
    },
    {
      "cell_type": "code",
      "source": [],
      "metadata": {
        "id": "3uv9ZgWvmVlp"
      },
      "execution_count": null,
      "outputs": []
    }
  ]
}